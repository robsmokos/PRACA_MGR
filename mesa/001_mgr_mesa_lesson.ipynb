{
  "nbformat": 4,
  "nbformat_minor": 0,
  "metadata": {
    "colab": {
      "provenance": [],
      "authorship_tag": "ABX9TyPPgM7MCvpOIEzbFxPVn7TH",
      "include_colab_link": true
    },
    "kernelspec": {
      "name": "python3",
      "display_name": "Python 3"
    },
    "language_info": {
      "name": "python"
    }
  },
  "cells": [
    {
      "cell_type": "markdown",
      "metadata": {
        "id": "view-in-github",
        "colab_type": "text"
      },
      "source": [
        "<a href=\"https://colab.research.google.com/github/robsmokos/PRACA_MGR/blob/main/mgr001.ipynb\" target=\"_parent\"><img src=\"https://colab.research.google.com/assets/colab-badge.svg\" alt=\"Open In Colab\"/></a>"
      ]
    },
    {
      "cell_type": "code",
      "source": [
        "! pip install mesa"
      ],
      "metadata": {
        "colab": {
          "base_uri": "https://localhost:8080/"
        },
        "id": "L7D2fEhy_l35",
        "outputId": "c3a7c592-d2c1-41ff-c43e-656b1f9bcfa9"
      },
      "execution_count": 1,
      "outputs": [
        {
          "output_type": "stream",
          "name": "stdout",
          "text": [
            "Collecting mesa\n",
            "  Downloading mesa-3.3.0-py3-none-any.whl.metadata (11 kB)\n",
            "Requirement already satisfied: numpy in /usr/local/lib/python3.12/dist-packages (from mesa) (2.0.2)\n",
            "Requirement already satisfied: pandas in /usr/local/lib/python3.12/dist-packages (from mesa) (2.2.2)\n",
            "Requirement already satisfied: scipy in /usr/local/lib/python3.12/dist-packages (from mesa) (1.16.2)\n",
            "Requirement already satisfied: tqdm in /usr/local/lib/python3.12/dist-packages (from mesa) (4.67.1)\n",
            "Requirement already satisfied: python-dateutil>=2.8.2 in /usr/local/lib/python3.12/dist-packages (from pandas->mesa) (2.9.0.post0)\n",
            "Requirement already satisfied: pytz>=2020.1 in /usr/local/lib/python3.12/dist-packages (from pandas->mesa) (2025.2)\n",
            "Requirement already satisfied: tzdata>=2022.7 in /usr/local/lib/python3.12/dist-packages (from pandas->mesa) (2025.2)\n",
            "Requirement already satisfied: six>=1.5 in /usr/local/lib/python3.12/dist-packages (from python-dateutil>=2.8.2->pandas->mesa) (1.17.0)\n",
            "Downloading mesa-3.3.0-py3-none-any.whl (239 kB)\n",
            "\u001b[2K   \u001b[90m━━━━━━━━━━━━━━━━━━━━━━━━━━━━━━━━━━━━━━━━\u001b[0m \u001b[32m239.6/239.6 kB\u001b[0m \u001b[31m4.0 MB/s\u001b[0m eta \u001b[36m0:00:00\u001b[0m\n",
            "\u001b[?25hInstalling collected packages: mesa\n",
            "Successfully installed mesa-3.3.0\n"
          ]
        }
      ]
    },
    {
      "cell_type": "code",
      "source": [
        "\n",
        "# Has multi-dimensional arrays and matrices.\n",
        "# Has a large collection of mathematical functions to operate on these arrays.\n",
        "import numpy as np\n",
        "\n",
        "# Data manipulation and analysis.\n",
        "import pandas as pd\n",
        "\n",
        "# Data visualization tools.\n",
        "import seaborn as sns\n",
        "\n",
        "# Import Cell Agent and OrthogonalMooreGrid\n",
        "from mesa.discrete_space import CellAgent, OrthogonalMooreGrid\n",
        "\n",
        "import mesa"
      ],
      "metadata": {
        "id": "qs2Qq926_1i7"
      },
      "execution_count": null,
      "outputs": []
    },
    {
      "cell_type": "code",
      "execution_count": null,
      "metadata": {
        "id": "GFCZtb74_WUG"
      },
      "outputs": [],
      "source": [
        "# Instantiate MoneyAgent as CellAgent\n",
        "class MoneyAgent(CellAgent):\n",
        "    \"\"\"An agent with fixed initial wealth.\"\"\"\n",
        "\n",
        "    def __init__(self, model, cell):\n",
        "        super().__init__(model)\n",
        "        self.cell = cell  # Instantiate agent with location (x,y)\n",
        "        self.wealth = 100\n",
        "\n",
        "    # Move Function\n",
        "    def move(self):\n",
        "        self.cell = self.cell.neighborhood.select_random_cell()\n",
        "\n",
        "    def give_money(self):\n",
        "        cellmates = [\n",
        "            a for a in self.cell.agents if a is not self\n",
        "        ]  # Get all agents in cell\n",
        "\n",
        "        if self.wealth > 0 and cellmates:\n",
        "            other_agent = self.random.choice(cellmates)\n",
        "            other_agent.wealth += 1\n",
        "            self.wealth -= 1\n",
        "\n",
        "\n",
        "\n",
        "class MoneyModel(mesa.Model):\n",
        "    \"\"\"A model with some number of agents.\"\"\"\n",
        "\n",
        "    def __init__(self, n, width, height, seed=None):\n",
        "        super().__init__(seed=seed)\n",
        "        self.num_agents = n\n",
        "        # Instantiate an instance of Moore neighborhood space\n",
        "        self.grid = OrthogonalMooreGrid(\n",
        "            (width, height), torus=True, capacity=10, random=self.random\n",
        "        )\n",
        "\n",
        "        # Create agents\n",
        "        agents = MoneyAgent.create_agents(\n",
        "            self,\n",
        "            self.num_agents,\n",
        "            # Randomly select agents cell\n",
        "            self.random.choices(self.grid.all_cells.cells, k=self.num_agents),\n",
        "        )\n",
        "\n",
        "    def step(self):\n",
        "        self.agents.shuffle_do(\"move\")\n",
        "        self.agents.do(\"give_money\")\n",
        "\n",
        "\n",
        "\n",
        "\n",
        "model = MoneyModel(100, 10, 10)\n",
        "for _ in range(10):\n",
        "    model.step()\n",
        "\n",
        "\n",
        "\n"
      ]
    },
    {
      "cell_type": "code",
      "source": [
        "agent_counts = np.zeros((model.grid.width, model.grid.height))\n",
        "\n",
        "for cell in model.grid.all_cells:\n",
        "    agent_counts[cell.coordinate] = len(cell.agents)\n",
        "# Plot using seaborn, with a visual size of 5x5\n",
        "g = sns.heatmap(agent_counts,  annot=True, cbar=False, square=False)\n",
        "g.figure.set_size_inches(5, 5)\n",
        "g.set(title=\"Number of agents on each cell of the grid\");"
      ],
      "metadata": {
        "colab": {
          "base_uri": "https://localhost:8080/",
          "height": 468
        },
        "id": "g3T7fsAO_9Ce",
        "outputId": "867742ba-14fb-4732-f478-1e65b7473716"
      },
      "execution_count": null,
      "outputs": [
        {
          "output_type": "display_data",
          "data": {
            "text/plain": [
              "<Figure size 500x500 with 1 Axes>"
            ],
            "image/png": "[encoded data removed]"
          },
          "metadata": {}
        }
      ]
    },
    {
      "cell_type": "code",
      "source": [
        "import matplotlib.pyplot as plt\n",
        "\n",
        "wealth_values = [agent.wealth for agent in model.agents]\n",
        "\n",
        "plt.figure(figsize=(10, 6))\n",
        "plt.hist(wealth_values, bins=20, edgecolor='black')\n",
        "plt.xlabel('Bogactwo')\n",
        "plt.ylabel('Liczba agentów')\n",
        "plt.title('Rozkład bogactwa agentów')\n",
        "plt.grid(True, alpha=0.3)\n",
        "plt.show()"
      ],
      "metadata": {
        "colab": {
          "base_uri": "https://localhost:8080/",
          "height": 565
        },
        "id": "D7PJ0VszHIsZ",
        "outputId": "9d34ecea-630b-4080-fe86-1a9cd744d6b2"
      },
      "execution_count": null,
      "outputs": [
        {
          "output_type": "display_data",
          "data": {
            "text/plain": [
              "<Figure size 1000x600 with 1 Axes>"
            ],
            "image/png": "[encoded data removed]"
          },
          "metadata": {}
        }
      ]
    },
    {
      "cell_type": "code",
      "source": [
        "# Wyświetl wszystkich agentów z ich bogactwem\n",
        "print(\"Lista agentów i ich bogactwo:\")\n",
        "print(\"-\" * 30)\n",
        "for i, agent in enumerate(model.agents):\n",
        "    print(f\"Agent nr {i+1}: bogactwo = {agent.wealth}\")"
      ],
      "metadata": {
        "colab": {
          "base_uri": "https://localhost:8080/"
        },
        "id": "RBLCPWO-Jruw",
        "outputId": "bc90ad9f-273b-4820-e92b-343e55bf4b66"
      },
      "execution_count": null,
      "outputs": [
        {
          "output_type": "stream",
          "name": "stdout",
          "text": [
            "Lista agentów i ich bogactwo:\n",
            "------------------------------\n",
            "Agent nr 1: bogactwo = 100\n",
            "Agent nr 2: bogactwo = 99\n",
            "Agent nr 3: bogactwo = 101\n",
            "Agent nr 4: bogactwo = 100\n",
            "Agent nr 5: bogactwo = 100\n",
            "Agent nr 6: bogactwo = 99\n",
            "Agent nr 7: bogactwo = 100\n",
            "Agent nr 8: bogactwo = 102\n",
            "Agent nr 9: bogactwo = 100\n",
            "Agent nr 10: bogactwo = 99\n",
            "Agent nr 11: bogactwo = 102\n",
            "Agent nr 12: bogactwo = 102\n",
            "Agent nr 13: bogactwo = 100\n",
            "Agent nr 14: bogactwo = 101\n",
            "Agent nr 15: bogactwo = 100\n",
            "Agent nr 16: bogactwo = 103\n",
            "Agent nr 17: bogactwo = 100\n",
            "Agent nr 18: bogactwo = 100\n",
            "Agent nr 19: bogactwo = 102\n",
            "Agent nr 20: bogactwo = 100\n",
            "Agent nr 21: bogactwo = 100\n",
            "Agent nr 22: bogactwo = 98\n",
            "Agent nr 23: bogactwo = 100\n",
            "Agent nr 24: bogactwo = 100\n",
            "Agent nr 25: bogactwo = 100\n",
            "Agent nr 26: bogactwo = 100\n",
            "Agent nr 27: bogactwo = 99\n",
            "Agent nr 28: bogactwo = 98\n",
            "Agent nr 29: bogactwo = 100\n",
            "Agent nr 30: bogactwo = 99\n",
            "Agent nr 31: bogactwo = 100\n",
            "Agent nr 32: bogactwo = 99\n",
            "Agent nr 33: bogactwo = 100\n",
            "Agent nr 34: bogactwo = 100\n",
            "Agent nr 35: bogactwo = 101\n",
            "Agent nr 36: bogactwo = 99\n",
            "Agent nr 37: bogactwo = 99\n",
            "Agent nr 38: bogactwo = 100\n",
            "Agent nr 39: bogactwo = 100\n",
            "Agent nr 40: bogactwo = 100\n",
            "Agent nr 41: bogactwo = 100\n",
            "Agent nr 42: bogactwo = 99\n",
            "Agent nr 43: bogactwo = 99\n",
            "Agent nr 44: bogactwo = 100\n",
            "Agent nr 45: bogactwo = 100\n",
            "Agent nr 46: bogactwo = 100\n",
            "Agent nr 47: bogactwo = 100\n",
            "Agent nr 48: bogactwo = 100\n",
            "Agent nr 49: bogactwo = 100\n",
            "Agent nr 50: bogactwo = 99\n",
            "Agent nr 51: bogactwo = 100\n",
            "Agent nr 52: bogactwo = 101\n",
            "Agent nr 53: bogactwo = 101\n",
            "Agent nr 54: bogactwo = 100\n",
            "Agent nr 55: bogactwo = 99\n",
            "Agent nr 56: bogactwo = 100\n",
            "Agent nr 57: bogactwo = 100\n",
            "Agent nr 58: bogactwo = 99\n",
            "Agent nr 59: bogactwo = 100\n",
            "Agent nr 60: bogactwo = 100\n",
            "Agent nr 61: bogactwo = 100\n",
            "Agent nr 62: bogactwo = 101\n",
            "Agent nr 63: bogactwo = 100\n",
            "Agent nr 64: bogactwo = 99\n",
            "Agent nr 65: bogactwo = 101\n",
            "Agent nr 66: bogactwo = 100\n",
            "Agent nr 67: bogactwo = 99\n",
            "Agent nr 68: bogactwo = 99\n",
            "Agent nr 69: bogactwo = 99\n",
            "Agent nr 70: bogactwo = 99\n",
            "Agent nr 71: bogactwo = 100\n",
            "Agent nr 72: bogactwo = 98\n",
            "Agent nr 73: bogactwo = 99\n",
            "Agent nr 74: bogactwo = 98\n",
            "Agent nr 75: bogactwo = 100\n",
            "Agent nr 76: bogactwo = 100\n",
            "Agent nr 77: bogactwo = 101\n",
            "Agent nr 78: bogactwo = 100\n",
            "Agent nr 79: bogactwo = 102\n",
            "Agent nr 80: bogactwo = 100\n",
            "Agent nr 81: bogactwo = 100\n",
            "Agent nr 82: bogactwo = 100\n",
            "Agent nr 83: bogactwo = 101\n",
            "Agent nr 84: bogactwo = 101\n",
            "Agent nr 85: bogactwo = 101\n",
            "Agent nr 86: bogactwo = 99\n",
            "Agent nr 87: bogactwo = 102\n",
            "Agent nr 88: bogactwo = 100\n",
            "Agent nr 89: bogactwo = 99\n",
            "Agent nr 90: bogactwo = 101\n",
            "Agent nr 91: bogactwo = 101\n",
            "Agent nr 92: bogactwo = 100\n",
            "Agent nr 93: bogactwo = 102\n",
            "Agent nr 94: bogactwo = 99\n",
            "Agent nr 95: bogactwo = 100\n",
            "Agent nr 96: bogactwo = 100\n",
            "Agent nr 97: bogactwo = 100\n",
            "Agent nr 98: bogactwo = 101\n",
            "Agent nr 99: bogactwo = 99\n",
            "Agent nr 100: bogactwo = 100\n"
          ]
        }
      ]
    }
  ]
}